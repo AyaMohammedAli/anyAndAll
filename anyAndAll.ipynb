{
 "cells": [
  {
   "cell_type": "markdown",
   "id": "dd399d84",
   "metadata": {},
   "source": [
    "## any and all in python\n",
    "Any and or are two built in functions in python Both functions are equivalent to writing a series of or , and operators respectively between each of the elements of the passed **iterable**"
   ]
  },
  {
   "cell_type": "markdown",
   "id": "7a1901d1",
   "metadata": {},
   "source": [
    "### The Or operator "
   ]
  },
  {
   "cell_type": "code",
   "execution_count": 36,
   "id": "69dc352a",
   "metadata": {},
   "outputs": [
    {
     "name": "stdout",
     "output_type": "stream",
     "text": [
      "True\n"
     ]
    }
   ],
   "source": [
    "x = 6\n",
    "y = 7 \n",
    "z = 8\n",
    "print((x >= 3 ) or (y >= 6 ) or (z > 7))"
   ]
  },
  {
   "cell_type": "code",
   "execution_count": 37,
   "id": "1c073dcd",
   "metadata": {},
   "outputs": [
    {
     "name": "stdout",
     "output_type": "stream",
     "text": [
      "True\n"
     ]
    }
   ],
   "source": [
    "print((x == 3 ) or (y >= 6 ) or (z == 7))"
   ]
  },
  {
   "cell_type": "code",
   "execution_count": 38,
   "id": "7c04e4a7",
   "metadata": {},
   "outputs": [
    {
     "name": "stdout",
     "output_type": "stream",
     "text": [
      "False\n"
     ]
    }
   ],
   "source": [
    "print((x == 3 ) or (y == 6 ) or (z < 7))"
   ]
  },
  {
   "cell_type": "markdown",
   "id": "99292fe4",
   "metadata": {},
   "source": [
    "As we see in the previous examples if any of the part of the code is True the all of the sentence is treated as true \n",
    "and if all the parts are false the all is treated as False \n",
    "So;we can use another functions which can help us and make code small and not repeat any part of the code We use **any** \n",
    "and use **iterable** as list to loop over it ."
   ]
  },
  {
   "cell_type": "code",
   "execution_count": 39,
   "id": "7cb8b56f",
   "metadata": {},
   "outputs": [
    {
     "name": "stdout",
     "output_type": "stream",
     "text": [
      "True\n"
     ]
    }
   ],
   "source": [
    "print(any([x >= 3, y >= 6, z > 7]))"
   ]
  },
  {
   "cell_type": "code",
   "execution_count": 40,
   "id": "de62af76",
   "metadata": {},
   "outputs": [
    {
     "name": "stdout",
     "output_type": "stream",
     "text": [
      "True\n"
     ]
    }
   ],
   "source": [
    "print(any([x == 3, y >= 6, z == 7]))"
   ]
  },
  {
   "cell_type": "code",
   "execution_count": 41,
   "id": "54e78bd1",
   "metadata": {},
   "outputs": [
    {
     "name": "stdout",
     "output_type": "stream",
     "text": [
      "False\n"
     ]
    }
   ],
   "source": [
    "print(any([x == 3, y == 6, z < 7]))"
   ]
  },
  {
   "cell_type": "markdown",
   "id": "74d0b421",
   "metadata": {},
   "source": [
    "### The and operator\n",
    "\n",
    "\n"
   ]
  },
  {
   "cell_type": "code",
   "execution_count": 42,
   "id": "23ff9290",
   "metadata": {},
   "outputs": [
    {
     "name": "stdout",
     "output_type": "stream",
     "text": [
      "True\n"
     ]
    }
   ],
   "source": [
    "x = 6\n",
    "y = 7 \n",
    "z = 8\n",
    "print((x >= 3 ) and (y >= 6 ) and (z > 7))"
   ]
  },
  {
   "cell_type": "code",
   "execution_count": 43,
   "id": "40225315",
   "metadata": {},
   "outputs": [
    {
     "name": "stdout",
     "output_type": "stream",
     "text": [
      "False\n"
     ]
    }
   ],
   "source": [
    "print((x == 3 ) and (y >= 6 ) and (z == 7))"
   ]
  },
  {
   "cell_type": "code",
   "execution_count": 44,
   "id": "0e733193",
   "metadata": {},
   "outputs": [
    {
     "name": "stdout",
     "output_type": "stream",
     "text": [
      "False\n"
     ]
    }
   ],
   "source": [
    "print((x == 3 ) and (y == 6 ) and (z < 7))"
   ]
  },
  {
   "cell_type": "markdown",
   "id": "d831d6e9",
   "metadata": {},
   "source": [
    "if all the parts are true the output is true \n",
    "else it false\n",
    "but there exist a function which like any make code small and easy called ***all***\n"
   ]
  },
  {
   "cell_type": "code",
   "execution_count": 45,
   "id": "eb68b801",
   "metadata": {},
   "outputs": [
    {
     "name": "stdout",
     "output_type": "stream",
     "text": [
      "True\n"
     ]
    }
   ],
   "source": [
    "print(all([x >= 3, y >= 6, z > 7]))"
   ]
  },
  {
   "cell_type": "code",
   "execution_count": 46,
   "id": "e764a2f3",
   "metadata": {},
   "outputs": [
    {
     "name": "stdout",
     "output_type": "stream",
     "text": [
      "False\n"
     ]
    }
   ],
   "source": [
    "print(all([x == 3, y >= 6, z == 7]))"
   ]
  },
  {
   "cell_type": "code",
   "execution_count": 47,
   "id": "85c1d4c2",
   "metadata": {},
   "outputs": [
    {
     "name": "stdout",
     "output_type": "stream",
     "text": [
      "False\n"
     ]
    }
   ],
   "source": [
    "print(all([x == 3, y == 6, z < 7]))"
   ]
  },
  {
   "cell_type": "markdown",
   "id": "3c44e01d",
   "metadata": {},
   "source": [
    "### ***Note:***"
   ]
  },
  {
   "cell_type": "markdown",
   "id": "42f6a365",
   "metadata": {},
   "source": [
    "1- while using dictionary it evaluate the value of the key not the value\n",
    "Let's see example"
   ]
  },
  {
   "cell_type": "code",
   "execution_count": 48,
   "id": "2c2282df",
   "metadata": {},
   "outputs": [
    {
     "name": "stdout",
     "output_type": "stream",
     "text": [
      "True\n",
      "False\n"
     ]
    }
   ],
   "source": [
    "dict = {True : True, False: True,True:True,False:True}\n",
    "\n",
    "print(any(dict))\n",
    "print(all(dict))\n"
   ]
  },
  {
   "cell_type": "markdown",
   "id": "214f312b",
   "metadata": {},
   "source": [
    "As we noticed that all the values of the dict  is True  but it print True in the second case of use all because it not care about what is exist in value it only see the key ."
   ]
  },
  {
   "cell_type": "markdown",
   "id": "1417eecd",
   "metadata": {},
   "source": [
    "2- ***Empty iterable***\n",
    "In case of any it print false and in case of all it will print True \n"
   ]
  },
  {
   "cell_type": "code",
   "execution_count": 49,
   "id": "2b08a9bf",
   "metadata": {},
   "outputs": [
    {
     "name": "stdout",
     "output_type": "stream",
     "text": [
      "False\n",
      "True\n"
     ]
    }
   ],
   "source": [
    "print(any([]))\n",
    "print(all([]))"
   ]
  },
  {
   "cell_type": "code",
   "execution_count": null,
   "id": "ba0b2295",
   "metadata": {},
   "outputs": [],
   "source": []
  },
  {
   "cell_type": "code",
   "execution_count": null,
   "id": "96981b4c",
   "metadata": {},
   "outputs": [],
   "source": []
  }
 ],
 "metadata": {
  "kernelspec": {
   "display_name": "Python 3 (ipykernel)",
   "language": "python",
   "name": "python3"
  },
  "language_info": {
   "codemirror_mode": {
    "name": "ipython",
    "version": 3
   },
   "file_extension": ".py",
   "mimetype": "text/x-python",
   "name": "python",
   "nbconvert_exporter": "python",
   "pygments_lexer": "ipython3",
   "version": "3.9.7"
  }
 },
 "nbformat": 4,
 "nbformat_minor": 5
}
